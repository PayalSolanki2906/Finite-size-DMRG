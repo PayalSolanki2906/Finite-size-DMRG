{
 "cells": [
  {
   "cell_type": "code",
   "execution_count": 68,
   "metadata": {},
   "outputs": [],
   "source": [
    "# Importing libraries\n",
    "import numpy as np\n",
    "from numpy import kron\n",
    "from scipy import identity\n",
    "from scipy.sparse.linalg import eigsh\n",
    "import scipy.linalg.lapack as la\n",
    "import math\n",
    "from collections import namedtuple "
   ]
  },
  {
   "cell_type": "code",
   "execution_count": 69,
   "metadata": {},
   "outputs": [],
   "source": [
    "# Step1: constructing one-qubit operator\n",
    "splus=np.zeros([2,2], dtype='float64')\n",
    "sminus=np.zeros([2,2],dtype='float64')\n",
    "sz=np.zeros([2,2],dtype='float64')\n",
    "splus[0,1]=1\n",
    "sminus[1,0]=1\n",
    "sz[0,0]=0.5\n",
    "sz[1,1]=-0.5\n",
    "ide=np.eye(2,dtype='float64')"
   ]
  },
  {
   "cell_type": "code",
   "execution_count": 70,
   "metadata": {},
   "outputs": [],
   "source": [
    "# Step2: Constructing two-qubit Hamiltonian\n",
    "H2=kron(sz,sz)+0.5*(kron(splus,sminus)+kron(sminus,splus))"
   ]
  },
  {
   "cell_type": "code",
   "execution_count": 71,
   "metadata": {},
   "outputs": [],
   "source": [
    "Block = namedtuple(\"Block\", [\"number_spins\", \"basis_size\", \"operator_dict\"])\n",
    "increment_block=namedtuple(\"increment_block\", [\"number_spins\", \"basis_size\", \"operator_dict\"])\n",
    "intial_block=Block(number_spins=2,basis_size=4,\\\n",
    "                   operator_dict={'ham':H2,'sz':kron(ide,sz),'sp':kron(ide,splus),'sm':kron(ide,sminus),\\\n",
    "                                  'id':kron(ide,ide)})\n"
   ]
  },
  {
   "cell_type": "code",
   "execution_count": 72,
   "metadata": {},
   "outputs": [],
   "source": [
    "def block_increment(input_block):\n",
    "    HL_new=kron(input_block.operator_dict['ham'],ide)\\\n",
    "    +kron(input_block.operator_dict['sz'],sz)+\\\n",
    "    0.5*(kron(input_block.operator_dict['sp'],sminus)+kron(input_block.operator_dict['sm'],splus))\n",
    "    enlarged_operator_dictionary={'ham':HL_new,'sz':kron(input_block.operator_dict['id'],sz),\\\n",
    "                                 'sp':kron(input_block.operator_dict['id'],splus),\\\n",
    "                                 'sm':kron(input_block.operator_dict['id'],sminus),\\\n",
    "                                 'id':kron(input_block.operator_dict['id'],ide)}\n",
    "    output_block=increment_block(number_spins=input_block.number_spins+1,basis_size=input_block.basis_size*2,\\\n",
    "                                operator_dict=enlarged_operator_dictionary)\n",
    "    return(output_block)"
   ]
  },
  {
   "cell_type": "code",
   "execution_count": 85,
   "metadata": {},
   "outputs": [],
   "source": [
    "def dmrg_step(sysblock,envblock,m):\n",
    "    sysblock_new=block_increment(sysblock)\n",
    "    if sysblock is envblock:  # no need to recalculate a second time\n",
    "        envblock_new = sysblock_new\n",
    "    else:\n",
    "        envblock_new = envblock\n",
    "    new_block=sysblock_new\n",
    "    sys_enl_op = sysblock_new.operator_dict\n",
    "    env_enl_op = envblock_new.operator_dict\n",
    "    if sysblock_new.basis_size > m:\n",
    "        super_ham=kron(sys_enl_op['ham'],env_enl_op['id'])+\\\n",
    "        kron(sys_enl_op['id'],env_enl_op ['ham'])+\\\n",
    "        kron(sys_enl_op['sz'],env_enl_op ['sz'])+\\\n",
    "        0.5*(kron(sys_enl_op['sp'],env_enl_op ['sm'])+\\\n",
    "             kron(sys_enl_op['sm'],env_enl_op ['sp']))\n",
    "        eigval, eigvec = eigsh(super_ham, k=1,which='SA')\n",
    "        print(eigval)\n",
    "        eigvec=eigvec.reshape(sysblock_new.basis_size,envblock_new.basis_size)\n",
    "        rho_red=np.matmul(eigvec,np.transpose(eigvec))\n",
    "        eval_red,evec_red,info=la.dsyev(rho_red)\n",
    "        tf_matrix=evec_red[:,np.shape(rho_red)[0]-m:np.shape(rho_red)[0]]\n",
    "        new_dictionary={'ham':np.matmul(np.matmul(np.transpose(tf_matrix),sys_enl_op['ham']),tf_matrix),\\\n",
    "                       'sz':np.matmul(np.matmul(np.transpose(tf_matrix),sys_enl_op['sz']),tf_matrix),\\\n",
    "                       'sp':np.matmul(np.matmul(np.transpose(tf_matrix),sys_enl_op['sp']),tf_matrix),\\\n",
    "                       'sm':np.matmul(np.matmul(np.transpose(tf_matrix),sys_enl_op['sm']),tf_matrix),\\\n",
    "                       'id':np.matmul(np.matmul(np.transpose(tf_matrix),sys_enl_op['id']),tf_matrix)}\n",
    "        new_block=Block(number_spins=sysblock_new.number_spins,basis_size=m,operator_dict=new_dictionary)\n",
    "    return(new_block)"
   ]
  },
  {
   "cell_type": "code",
   "execution_count": 88,
   "metadata": {},
   "outputs": [],
   "source": [
    "def finite_dmrg(N,m,sweeps):\n",
    "    # LR: Left Right\n",
    "    LR_operators={}\n",
    "    BlockL=intial_block\n",
    "    # sys: system block, and env: environment block\n",
    "    LR_operators['sys',BlockL.number_spins]=BlockL\n",
    "    LR_operators['env',BlockL.number_spins]=BlockL\n",
    "    while BlockL.number_spins<N/2:\n",
    "        BlockL=dmrg_step(BlockL,BlockL,m)\n",
    "        LR_operators['sys',BlockL.number_spins]=BlockL\n",
    "        LR_operators['env',BlockL.number_spins]=BlockL\n",
    "    # Sweep part\n",
    "    system_label='sys'\n",
    "    env_label='env'\n",
    "    system_block=BlockL\n",
    "    del BlockL\n",
    "    for i in range(1,sweeps+1):\n",
    "        env_block=LR_operators[env_label,N-system_block.number_spins-1]\n",
    "        system_block=dmrg_step(system_block,env_block,m)\n",
    "        if env_block.number_spins == 2:\n",
    "            # We've come to the end of the chain, so we reverse course.\n",
    "            system_block, env_block = env_block, system_block\n",
    "            system_label, env_label = env_label, system_label\n",
    "        LR_operators[system_label, system_block.number_spins] = system_block"
   ]
  },
  {
   "cell_type": "code",
   "execution_count": 90,
   "metadata": {},
   "outputs": [
    {
     "name": "stdout",
     "output_type": "stream",
     "text": [
      "[-3.3749326]\n",
      "[-4.25802886]\n",
      "[-4.25802837]\n",
      "[-4.25802843]\n",
      "[-4.25802843]\n",
      "[-4.25802843]\n",
      "[-4.25802843]\n",
      "[-4.25802843]\n",
      "[-4.25802848]\n",
      "[-4.25802848]\n"
     ]
    }
   ],
   "source": [
    "finite_dmrg(10,10,10)"
   ]
  },
  {
   "cell_type": "code",
   "execution_count": null,
   "metadata": {},
   "outputs": [],
   "source": []
  },
  {
   "cell_type": "code",
   "execution_count": null,
   "metadata": {},
   "outputs": [],
   "source": []
  },
  {
   "cell_type": "code",
   "execution_count": null,
   "metadata": {},
   "outputs": [],
   "source": []
  }
 ],
 "metadata": {
  "kernelspec": {
   "display_name": "Python 3",
   "language": "python",
   "name": "python3"
  },
  "language_info": {
   "codemirror_mode": {
    "name": "ipython",
    "version": 3
   },
   "file_extension": ".py",
   "mimetype": "text/x-python",
   "name": "python",
   "nbconvert_exporter": "python",
   "pygments_lexer": "ipython3",
   "version": "3.7.6"
  }
 },
 "nbformat": 4,
 "nbformat_minor": 4
}
